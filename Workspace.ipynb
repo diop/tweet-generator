{
 "cells": [
  {
   "cell_type": "markdown",
   "metadata": {},
   "source": [
    "## African Proverbs Tweet Generator\n",
    "### Random Python Quote"
   ]
  },
  {
   "cell_type": "code",
   "execution_count": 26,
   "metadata": {},
   "outputs": [],
   "source": [
    "import random\n",
    "import sys\n",
    "import os\n"
   ]
  },
  {
   "cell_type": "code",
   "execution_count": 11,
   "metadata": {},
   "outputs": [],
   "source": [
    "proverbs = ('Only a fool tests the depth of a river with both freet',\n",
    "         'Knowledge is like a garden: It it is not cultivated, it cannot be harvested',\n",
    "         'Sugar cane is sweetest at its joints',\n",
    "          'The best way to eat an elephant in your path is to cut him up into little pieces',\n",
    "          'A restless foot may walk into a snake pit',\n",
    "          'A chick that will grow into a cock can be spotted the very day it hatches.',\n",
    "          'After a foolish deed comes remorse',\n",
    "          'A roaring lion kills no game',\n",
    "          'If a child washes his hands he could eat with kings',\n",
    "          'Rain does not fall on one roof alone',\n",
    "          'Life is like a shadow and a mist; it passes quickly by, and is no more',\n",
    "          'Do not look where you fell, but where you slipped'\n",
    "         )"
   ]
  },
  {
   "cell_type": "code",
   "execution_count": 15,
   "metadata": {
    "scrolled": true
   },
   "outputs": [
    {
     "data": {
      "text/plain": [
       "('Only a fool tests the depth of a river with both freet',\n",
       " 'Knowledge is like a garden: It it is not cultivated, it cannot be harvested',\n",
       " 'Sugar cane is sweetest at its joints',\n",
       " 'The best way to eat an elephant in your path is to cut him up into little pieces',\n",
       " 'A restless foot may walk into a snake pit',\n",
       " 'A chick that will grow into a cock can be spotted the very day it hatches.',\n",
       " 'After a foolish deed comes remorse',\n",
       " 'A roaring lion kills no game',\n",
       " 'If a child washes his hands he could eat with kings',\n",
       " 'Rain does not fall on one roof alone',\n",
       " 'Life is like a shadow and a mist; it passes quickly by, and is no more',\n",
       " 'Do not look where you fell, but where you slipped')"
      ]
     },
     "execution_count": 15,
     "metadata": {},
     "output_type": "execute_result"
    }
   ],
   "source": [
    "proverbs"
   ]
  },
  {
   "cell_type": "code",
   "execution_count": 18,
   "metadata": {},
   "outputs": [],
   "source": [
    "def random_african_proverb():\n",
    "    rand_index = random_randint(0, len(proverbs) - 1)\n",
    "    \n",
    "if '__name__' == '__main__':\n",
    "    proverb = random_python_quote()\n",
    "    print(proverb)"
   ]
  },
  {
   "cell_type": "code",
   "execution_count": 31,
   "metadata": {},
   "outputs": [],
   "source": [
    "def rearrange():\n",
    "    input_words = []\n",
    "    rearranged_words = []\n",
    "    \n",
    "    for word in input_words:\n",
    "        if word != sys.argv[0]:\n",
    "            input_words.append[word]\n",
    "                                \n",
    "    while len(input_words) > 0:\n",
    "        random_index = random_randint(0, len(input_words) -1)\n",
    "        rearranged_words.append(input_words.pop(random_index))\n",
    "\n",
    "if '__name__' == '__main__':\n",
    "    shuffled_words = rearrange()\n",
    "    print(shuffled_words)"
   ]
  },
  {
   "cell_type": "code",
   "execution_count": 32,
   "metadata": {},
   "outputs": [],
   "source": [
    "rearrange()"
   ]
  },
  {
   "cell_type": "code",
   "execution_count": 12,
   "metadata": {},
   "outputs": [],
   "source": [
    "def hash_table_histogram():\n",
    "    table = {}\n",
    "    # with open(input_list, 'r') as f:\n",
    "        # word_list = f.read().split()\n",
    "    cute_string = 'one fish two fish red fish blue fish'.split()\n",
    "    for i in cute_string: \n",
    "        table[i] = table.get(i, 0) + 1\n",
    "        \n",
    "    return table"
   ]
  },
  {
   "cell_type": "code",
   "execution_count": 7,
   "metadata": {},
   "outputs": [],
   "source": [
    "def unique_words(histogram):\n",
    "    uniques = []\n",
    "    \n",
    "    for key, value in histogram.items():\n",
    "        if value == 1:\n",
    "            uniques.append(key)\n",
    "            return len(uniques)"
   ]
  },
  {
   "cell_type": "code",
   "execution_count": 4,
   "metadata": {},
   "outputs": [],
   "source": [
    "def frequency(histogram, word):\n",
    "    return histogram[word]"
   ]
  },
  {
   "cell_type": "code",
   "execution_count": 13,
   "metadata": {},
   "outputs": [
    {
     "data": {
      "text/plain": [
       "{'one': 1, 'fish': 4, 'two': 1, 'red': 1, 'blue': 1}"
      ]
     },
     "execution_count": 13,
     "metadata": {},
     "output_type": "execute_result"
    }
   ],
   "source": [
    "\n",
    "hash_table_histogram()"
   ]
  },
  {
   "cell_type": "code",
   "execution_count": null,
   "metadata": {},
   "outputs": [],
   "source": []
  }
 ],
 "metadata": {
  "kernelspec": {
   "display_name": "Python 3",
   "language": "python",
   "name": "python3"
  },
  "language_info": {
   "codemirror_mode": {
    "name": "ipython",
    "version": 3
   },
   "file_extension": ".py",
   "mimetype": "text/x-python",
   "name": "python",
   "nbconvert_exporter": "python",
   "pygments_lexer": "ipython3",
   "version": "3.7.2"
  }
 },
 "nbformat": 4,
 "nbformat_minor": 2
}
