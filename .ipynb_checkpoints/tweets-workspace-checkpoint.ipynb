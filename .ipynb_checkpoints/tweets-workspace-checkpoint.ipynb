{
 "cells": [
  {
   "cell_type": "markdown",
   "metadata": {},
   "source": [
    "## African Proverbs Tweet Generator\n",
    "### Random Python Quote"
   ]
  },
  {
   "cell_type": "code",
   "execution_count": 14,
   "metadata": {},
   "outputs": [],
   "source": [
    "import random"
   ]
  },
  {
   "cell_type": "code",
   "execution_count": 11,
   "metadata": {},
   "outputs": [],
   "source": [
    "proverbs = ('Only a fool tests the depth of a river with both freet',\n",
    "         'Knowledge is like a garden: It it is not cultivated, it cannot be harvested',\n",
    "         'Sugar cane is sweetest at its joints',\n",
    "          'The best way to eat an elephant in your path is to cut him up into little pieces',\n",
    "          'A restless foot may walk into a snake pit',\n",
    "          'A chick that will grow into a cock can be spotted the very day it hatches.',\n",
    "          'After a foolish deed comes remorse',\n",
    "          'A roaring lion kills no game',\n",
    "          'If a child washes his hands he could eat with kings',\n",
    "          'Rain does not fall on one roof alone',\n",
    "          'Life is like a shadow and a mist; it passes quickly by, and is no more',\n",
    "          'Do not look where you fell, but where you slipped'\n",
    "         )"
   ]
  },
  {
   "cell_type": "code",
   "execution_count": 15,
   "metadata": {
    "scrolled": true
   },
   "outputs": [
    {
     "data": {
      "text/plain": [
       "('Only a fool tests the depth of a river with both freet',\n",
       " 'Knowledge is like a garden: It it is not cultivated, it cannot be harvested',\n",
       " 'Sugar cane is sweetest at its joints',\n",
       " 'The best way to eat an elephant in your path is to cut him up into little pieces',\n",
       " 'A restless foot may walk into a snake pit',\n",
       " 'A chick that will grow into a cock can be spotted the very day it hatches.',\n",
       " 'After a foolish deed comes remorse',\n",
       " 'A roaring lion kills no game',\n",
       " 'If a child washes his hands he could eat with kings',\n",
       " 'Rain does not fall on one roof alone',\n",
       " 'Life is like a shadow and a mist; it passes quickly by, and is no more',\n",
       " 'Do not look where you fell, but where you slipped')"
      ]
     },
     "execution_count": 15,
     "metadata": {},
     "output_type": "execute_result"
    }
   ],
   "source": [
    "proverbs"
   ]
  },
  {
   "cell_type": "code",
   "execution_count": 17,
   "metadata": {},
   "outputs": [],
   "source": [
    "def random_african_proverb():\n",
    "    rand_index = random_randint(0, len(proverbs) - 1)\n",
    "    \n",
    "if '__name__' == '__main__':\n",
    "    proverb = random_python_quote()\n",
    "    print(proverb)"
   ]
  },
  {
   "cell_type": "code",
   "execution_count": null,
   "metadata": {},
   "outputs": [],
   "source": []
  }
 ],
 "metadata": {
  "kernelspec": {
   "display_name": "Python 3",
   "language": "python",
   "name": "python3"
  },
  "language_info": {
   "codemirror_mode": {
    "name": "ipython",
    "version": 3
   },
   "file_extension": ".py",
   "mimetype": "text/x-python",
   "name": "python",
   "nbconvert_exporter": "python",
   "pygments_lexer": "ipython3",
   "version": "3.7.2"
  }
 },
 "nbformat": 4,
 "nbformat_minor": 2
}
