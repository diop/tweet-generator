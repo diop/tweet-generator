{
 "cells": [
  {
   "cell_type": "markdown",
   "metadata": {},
   "source": [
    "## Using built-in Python functions\n",
    "\n",
    "``` \n",
    "def reverse1(word):\n",
    "    return ' '.join(reversed(sentence.split())) \n",
    "```\n",
    "\n",
    "Second option\n",
    "\n",
    "``` \n",
    "def reverse2(word):\n",
    "    return ' '.join(sentence.split()[::-1])\n",
    "```"
   ]
  },
  {
   "cell_type": "code",
   "execution_count": 18,
   "metadata": {},
   "outputs": [],
   "source": [
    "def reverse_sentence(sentence):\n",
    "    words = []\n",
    "    length = len(words)\n",
    "    spaces = [' ']\n",
    "    \n",
    "    index = 0\n",
    "    \n",
    "    while index < length:\n",
    "        if sentence[index] not in spaces:\n",
    "            word_start = index\n",
    "            while index < length and sentence[index] not in spaces:\n",
    "                index += 1\n",
    "                \n",
    "            words.append(sentence[word_start:index])\n",
    "        \n",
    "        index += 1\n",
    "    \n",
    "    return ' '.join(reversed(words))\n",
    "            "
   ]
  },
  {
   "cell_type": "code",
   "execution_count": 19,
   "metadata": {},
   "outputs": [
    {
     "data": {
      "text/plain": [
       "''"
      ]
     },
     "execution_count": 19,
     "metadata": {},
     "output_type": "execute_result"
    }
   ],
   "source": [
    "reverse_sentence(' send crypto with a text message')"
   ]
  },
  {
   "cell_type": "code",
   "execution_count": null,
   "metadata": {},
   "outputs": [],
   "source": []
  }
 ],
 "metadata": {
  "kernelspec": {
   "display_name": "Python 3",
   "language": "python",
   "name": "python3"
  },
  "language_info": {
   "codemirror_mode": {
    "name": "ipython",
    "version": 3
   },
   "file_extension": ".py",
   "mimetype": "text/x-python",
   "name": "python",
   "nbconvert_exporter": "python",
   "pygments_lexer": "ipython3",
   "version": "3.7.2"
  }
 },
 "nbformat": 4,
 "nbformat_minor": 2
}
